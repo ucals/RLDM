{
 "cells": [
  {
   "cell_type": "code",
   "execution_count": 1,
   "metadata": {},
   "outputs": [],
   "source": [
    "import numpy as np"
   ]
  },
  {
   "cell_type": "markdown",
   "metadata": {},
   "source": [
    "## The first thing we need to do is setup matricies for the transition probablities and the rewards.  \n",
    "Number of states is equal to total possible bankroll in the game. for N = 6, isBadSide = {1,1,1,0,0,0}, possible bankroll after roll 1 are {0,4,5,6}; after roll 2 are {0,8,9,10,11,12}.Possible bankroll states increase as fibonacci series list.But I will also include all non-exsit bankroll just for convience.\n",
    "I will use truncated matrix no more than roll 2 for DieN = 6.\n",
    "There is one more state call quit. quit != leave\n",
    "You can choice to leave(action=0), but you are force to quit (s in B)\n",
    "state {quit\t0\t4\t5\t6\t8\t9\t10\t11\t12}\n",
    "\n",
    "The transition probablities will be represented in a num actions x num states x num states matrix\n",
    "\n",
    "The rewards will be represented in a num states x num actions array"
   ]
  },
  {
   "cell_type": "code",
   "execution_count": 4,
   "metadata": {},
   "outputs": [],
   "source": [
    "prob = np.zeros((2, 10, 10)) "
   ]
  },
  {
   "cell_type": "code",
   "execution_count": 5,
   "metadata": {},
   "outputs": [],
   "source": [
    "#if leave\n",
    "prob[0] = [[1, 0, 0, 0, 0, 0, 0, 0, 0, 0],\n",
    "           [0, 1, 0, 0, 0, 0, 0, 0, 0, 0],\n",
    "           [0, 0, 1, 0, 0, 0, 0, 0, 0, 0],\n",
    "           [0, 0, 0, 1, 0, 0, 0, 0, 0, 0],\n",
    "           [0, 0, 0, 0, 1, 0, 0, 0, 0, 0],\n",
    "           [0, 0, 0, 0, 0, 1, 0, 0, 0, 0],\n",
    "           [0, 0, 0, 0, 0, 0, 1, 0, 0, 0],\n",
    "           [0, 0, 0, 0, 0, 0, 0, 1, 0, 0],\n",
    "           [0, 0, 0, 0, 0, 0, 0, 0, 1, 0],\n",
    "           [0, 0, 0, 0, 0, 0, 0, 0, 0, 1]]"
   ]
  },
  {
   "cell_type": "code",
   "execution_count": 6,
   "metadata": {},
   "outputs": [
    {
     "data": {
      "text/plain": [
       "array([1., 1., 1., 1., 1., 1., 1., 1., 1., 1.])"
      ]
     },
     "execution_count": 6,
     "metadata": {},
     "output_type": "execute_result"
    }
   ],
   "source": [
    "#if roll\n",
    "p=1.0/6\n",
    "prob[1] = [[0, p, p, p, 0, 0, 0, 0, 0, 0.5],\n",
    "           [0, 0, 0, 0, p, p, p, 0, 0, 0.5],\n",
    "           [0, 0, 0, 0, 0, p, p, p, 0, 0.5],\n",
    "           [0, 0, 0, 0, 0, 0, p, p, p, 0.5],\n",
    "           [0, 0, 0, 0, 0, 0, 0, 0, 0, 1],\n",
    "           [0, 0, 0, 0, 0, 0, 0, 0, 0, 1],\n",
    "           [0, 0, 0, 0, 0, 0, 0, 0, 0, 1],\n",
    "           [0, 0, 0, 0, 0, 0, 0, 0, 0, 1],\n",
    "           [0, 0, 0, 0, 0, 0, 0, 0, 0, 1],\n",
    "           [0, 0, 0, 0, 0, 0, 0, 0, 0, 1]]\n",
    "np.sum(prob[0],axis=1)\n",
    "np.sum(prob[1],axis=1)"
   ]
  },
  {
   "cell_type": "code",
   "execution_count": 12,
   "metadata": {},
   "outputs": [
    {
     "data": {
      "text/plain": [
       "0.5"
      ]
     },
     "execution_count": 12,
     "metadata": {},
     "output_type": "execute_result"
    }
   ],
   "source": [
    "prob[1][1][9]"
   ]
  },
  {
   "cell_type": "code",
   "execution_count": null,
   "metadata": {},
   "outputs": [],
   "source": []
  },
  {
   "cell_type": "code",
   "execution_count": null,
   "metadata": {},
   "outputs": [],
   "source": []
  },
  {
   "cell_type": "code",
   "execution_count": 7,
   "metadata": {},
   "outputs": [],
   "source": [
    "rewards = np.zeros((2, 10, 10))"
   ]
  },
  {
   "cell_type": "code",
   "execution_count": 8,
   "metadata": {},
   "outputs": [],
   "source": [
    "# if leave\n",
    "rewards[0] = [[0, 0, 0, 0, 0, 0, 0, 0, 0, 0],\n",
    "              [0, 0, 0, 0, 0, 0, 0, 0, 0, 0],\n",
    "              [0, 0, 0, 0, 0, 0, 0, 0, 0, 0],\n",
    "              [0, 0, 0, 0, 0, 0, 0, 0, 0, 0],\n",
    "              [0, 0, 0, 0, 0, 0, 0, 0, 0, 0],\n",
    "              [0, 0, 0, 0, 0, 0, 0, 0, 0, 0],\n",
    "              [0, 0, 0, 0, 0, 0, 0, 0, 0, 0],\n",
    "              [0, 0, 0, 0, 0, 0, 0, 0, 0, 0],\n",
    "              [0, 0, 0, 0, 0, 0, 0, 0, 0, 0],\n",
    "              [0, 0, 0, 0, 0, 0, 0, 0, 0, 0]]"
   ]
  },
  {
   "cell_type": "code",
   "execution_count": 9,
   "metadata": {},
   "outputs": [],
   "source": [
    "#if roll\n",
    "rewards[1] = [[0, 4, 5, 6, 0, 0, 0, 0, 0, 0],\n",
    "              [0, 0, 0, 0, 4, 5, 6, 0, 0, -4],\n",
    "              [0, 0, 0, 0, 0, 4, 5, 6, 0, -5],\n",
    "              [0, 0, 0, 0, 0, 0, 4, 5, 6, -6],\n",
    "              [0, 0, 0, 0, 0, 0, 0, 0, 0, -8],\n",
    "              [0, 0, 0, 0, 0, 0, 0, 0, 0, -9],\n",
    "              [0, 0, 0, 0, 0, 0, 0, 0, 0, -10],\n",
    "              [0, 0, 0, 0, 0, 0, 0, 0, 0, -11],\n",
    "              [0, 0, 0, 0, 0, 0, 0, 0, 0, -12],\n",
    "              [0, 0, 0, 0, 0, 0, 0, 0, 0, 0]]"
   ]
  },
  {
   "cell_type": "code",
   "execution_count": 13,
   "metadata": {},
   "outputs": [
    {
     "name": "stdout",
     "output_type": "stream",
     "text": [
      "[[0. 0.]\n",
      " [0. 0.]\n",
      " [0. 0.]\n",
      " [0. 0.]\n",
      " [0. 0.]\n",
      " [0. 0.]\n",
      " [0. 0.]\n",
      " [0. 0.]\n",
      " [0. 0.]\n",
      " [0. 0.]]\n"
     ]
    }
   ],
   "source": [
    "V = np.zeros(10)\n",
    "Q = np.zeros((10, 2))\n",
    "\n",
    "for s in range(10):\n",
    "    for a in range(2):\n",
    "        Q[s][a] = rewards[a]"
   ]
  },
  {
   "cell_type": "code",
   "execution_count": 22,
   "metadata": {},
   "outputs": [
    {
     "name": "stdout",
     "output_type": "stream",
     "text": [
      "[4, 5, 6]\n",
      "[8, 9, 10, 9, 10, 11, 10, 11, 12]\n",
      "[12, 13, 14, 13, 14, 15, 14, 15, 16, 13, 14, 15, 14, 15, 16, 15, 16, 17, 14, 15, 16, 15, 16, 17, 16, 17, 18]\n",
      "[16, 17, 18, 17, 18, 19, 18, 19, 20, 17, 18, 19, 18, 19, 20, 19, 20, 21, 18, 19, 20, 19, 20, 21, 20, 21, 22, 17, 18, 19, 18, 19, 20, 19, 20, 21, 18, 19, 20, 19, 20, 21, 20, 21, 22, 19, 20, 21, 20, 21, 22, 21, 22, 23, 18, 19, 20, 19, 20, 21, 20, 21, 22, 19, 20, 21, 20, 21, 22, 21, 22, 23, 20, 21, 22, 21, 22, 23, 22, 23, 24]\n"
     ]
    }
   ],
   "source": [
    "mask = [1, 1, 1, 0, 0, 0]\n",
    "\n",
    "curr_level = [0]\n",
    "for i in range(4):\n",
    "    x = []\n",
    "    for b in curr_level:\n",
    "        for n, j in enumerate(mask):\n",
    "            if j == 0: # and (b + n + 1) not in x:\n",
    "                x.append(b + n + 1)\n",
    "                \n",
    "    print(x)\n",
    "    curr_level = x\n",
    "                \n",
    "#print(x)"
   ]
  },
  {
   "cell_type": "code",
   "execution_count": null,
   "metadata": {},
   "outputs": [],
   "source": []
  }
 ],
 "metadata": {
  "kernelspec": {
   "display_name": "Python 3",
   "language": "python",
   "name": "python3"
  },
  "language_info": {
   "codemirror_mode": {
    "name": "ipython",
    "version": 3
   },
   "file_extension": ".py",
   "mimetype": "text/x-python",
   "name": "python",
   "nbconvert_exporter": "python",
   "pygments_lexer": "ipython3",
   "version": "3.6.8"
  }
 },
 "nbformat": 4,
 "nbformat_minor": 2
}
