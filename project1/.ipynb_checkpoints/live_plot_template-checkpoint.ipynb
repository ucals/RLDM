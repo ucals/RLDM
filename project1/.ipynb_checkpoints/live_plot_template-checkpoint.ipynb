{
 "cells": [
  {
   "cell_type": "code",
   "execution_count": 61,
   "metadata": {},
   "outputs": [],
   "source": [
    "import pandas as pd\n",
    "import numpy as np\n",
    "import matplotlib.pyplot as plt\n",
    "import matplotlib.animation as animation\n",
    "from matplotlib import style\n",
    "import matplotlib.gridspec as gridspec"
   ]
  },
  {
   "cell_type": "markdown",
   "metadata": {},
   "source": [
    "### Fake data"
   ]
  },
  {
   "cell_type": "code",
   "execution_count": 74,
   "metadata": {},
   "outputs": [
    {
     "data": {
      "text/html": [
       "<div>\n",
       "<style scoped>\n",
       "    .dataframe tbody tr th:only-of-type {\n",
       "        vertical-align: middle;\n",
       "    }\n",
       "\n",
       "    .dataframe tbody tr th {\n",
       "        vertical-align: top;\n",
       "    }\n",
       "\n",
       "    .dataframe thead th {\n",
       "        text-align: right;\n",
       "    }\n",
       "</style>\n",
       "<table border=\"1\" class=\"dataframe\">\n",
       "  <thead>\n",
       "    <tr style=\"text-align: right;\">\n",
       "      <th></th>\n",
       "      <th>A</th>\n",
       "      <th>B</th>\n",
       "      <th>C</th>\n",
       "      <th>D</th>\n",
       "      <th>E</th>\n",
       "    </tr>\n",
       "    <tr>\n",
       "      <th>lambda</th>\n",
       "      <th></th>\n",
       "      <th></th>\n",
       "      <th></th>\n",
       "      <th></th>\n",
       "      <th></th>\n",
       "    </tr>\n",
       "  </thead>\n",
       "  <tbody>\n",
       "    <tr>\n",
       "      <th>0.0</th>\n",
       "      <td>0.331252</td>\n",
       "      <td>0.256085</td>\n",
       "      <td>0.515037</td>\n",
       "      <td>0.500733</td>\n",
       "      <td>0.767174</td>\n",
       "    </tr>\n",
       "    <tr>\n",
       "      <th>0.3</th>\n",
       "      <td>0.168211</td>\n",
       "      <td>0.423157</td>\n",
       "      <td>0.565327</td>\n",
       "      <td>0.757421</td>\n",
       "      <td>0.816491</td>\n",
       "    </tr>\n",
       "  </tbody>\n",
       "</table>\n",
       "</div>"
      ],
      "text/plain": [
       "               A         B         C         D         E\n",
       "lambda                                                  \n",
       "0.0     0.331252  0.256085  0.515037  0.500733  0.767174\n",
       "0.3     0.168211  0.423157  0.565327  0.757421  0.816491"
      ]
     },
     "execution_count": 74,
     "metadata": {},
     "output_type": "execute_result"
    }
   ],
   "source": [
    "df_v = pd.DataFrame(index=pd.Index([0.0, 0.3], name='lambda'), columns=['A', 'B', 'C', 'D', 'E'])\n",
    "v_true = [1/6, 2/6, 3/6, 4/6, 5/6]\n",
    "df_v.loc[0.0] = [np.random.normal(v, 0.1) for v in v_true]\n",
    "df_v.loc[0.3] = [np.random.normal(v, 0.1) for v in v_true]\n",
    "df_v"
   ]
  },
  {
   "cell_type": "code",
   "execution_count": 10,
   "metadata": {},
   "outputs": [
    {
     "data": {
      "text/html": [
       "<div>\n",
       "<style scoped>\n",
       "    .dataframe tbody tr th:only-of-type {\n",
       "        vertical-align: middle;\n",
       "    }\n",
       "\n",
       "    .dataframe tbody tr th {\n",
       "        vertical-align: top;\n",
       "    }\n",
       "\n",
       "    .dataframe thead th {\n",
       "        text-align: right;\n",
       "    }\n",
       "</style>\n",
       "<table border=\"1\" class=\"dataframe\">\n",
       "  <thead>\n",
       "    <tr style=\"text-align: right;\">\n",
       "      <th></th>\n",
       "      <th>A</th>\n",
       "      <th>B</th>\n",
       "      <th>C</th>\n",
       "      <th>D</th>\n",
       "      <th>E</th>\n",
       "    </tr>\n",
       "    <tr>\n",
       "      <th>eligibility</th>\n",
       "      <th></th>\n",
       "      <th></th>\n",
       "      <th></th>\n",
       "      <th></th>\n",
       "      <th></th>\n",
       "    </tr>\n",
       "  </thead>\n",
       "  <tbody>\n",
       "    <tr>\n",
       "      <th>0.0</th>\n",
       "      <td>0.497348</td>\n",
       "      <td>0.194094</td>\n",
       "      <td>0.787539</td>\n",
       "      <td>0.0617646</td>\n",
       "      <td>0.246346</td>\n",
       "    </tr>\n",
       "    <tr>\n",
       "      <th>0.3</th>\n",
       "      <td>0.249675</td>\n",
       "      <td>0.12099</td>\n",
       "      <td>0.410138</td>\n",
       "      <td>0.272931</td>\n",
       "      <td>0.522751</td>\n",
       "    </tr>\n",
       "  </tbody>\n",
       "</table>\n",
       "</div>"
      ],
      "text/plain": [
       "                    A         B         C          D         E\n",
       "eligibility                                                   \n",
       "0.0          0.497348  0.194094  0.787539  0.0617646  0.246346\n",
       "0.3          0.249675   0.12099  0.410138   0.272931  0.522751"
      ]
     },
     "execution_count": 10,
     "metadata": {},
     "output_type": "execute_result"
    }
   ],
   "source": [
    "df_e = pd.DataFrame(index=pd.Index([0.0, 0.3], name='eligibility'), columns=['A', 'B', 'C', 'D', 'E'])\n",
    "df_e.loc[0.0] = np.random.uniform(0, 1, 5)\n",
    "df_e.loc[0.3] = np.random.uniform(0, 1, 5)\n",
    "df_e"
   ]
  },
  {
   "cell_type": "code",
   "execution_count": 75,
   "metadata": {},
   "outputs": [
    {
     "data": {
      "text/html": [
       "<div>\n",
       "<style scoped>\n",
       "    .dataframe tbody tr th:only-of-type {\n",
       "        vertical-align: middle;\n",
       "    }\n",
       "\n",
       "    .dataframe tbody tr th {\n",
       "        vertical-align: top;\n",
       "    }\n",
       "\n",
       "    .dataframe thead th {\n",
       "        text-align: right;\n",
       "    }\n",
       "</style>\n",
       "<table border=\"1\" class=\"dataframe\">\n",
       "  <thead>\n",
       "    <tr style=\"text-align: right;\">\n",
       "      <th></th>\n",
       "      <th>0.0</th>\n",
       "      <th>0.3</th>\n",
       "    </tr>\n",
       "    <tr>\n",
       "      <th>episode</th>\n",
       "      <th></th>\n",
       "      <th></th>\n",
       "    </tr>\n",
       "  </thead>\n",
       "  <tbody>\n",
       "    <tr>\n",
       "      <th>1</th>\n",
       "      <td>0.726364</td>\n",
       "      <td>0.688417</td>\n",
       "    </tr>\n",
       "    <tr>\n",
       "      <th>2</th>\n",
       "      <td>0.526714</td>\n",
       "      <td>0.514234</td>\n",
       "    </tr>\n",
       "    <tr>\n",
       "      <th>3</th>\n",
       "      <td>0.395871</td>\n",
       "      <td>0.411293</td>\n",
       "    </tr>\n",
       "    <tr>\n",
       "      <th>4</th>\n",
       "      <td>0.256684</td>\n",
       "      <td>0.296779</td>\n",
       "    </tr>\n",
       "    <tr>\n",
       "      <th>5</th>\n",
       "      <td>0.191487</td>\n",
       "      <td>0.186675</td>\n",
       "    </tr>\n",
       "    <tr>\n",
       "      <th>6</th>\n",
       "      <td>0.136199</td>\n",
       "      <td>0.131952</td>\n",
       "    </tr>\n",
       "    <tr>\n",
       "      <th>7</th>\n",
       "      <td>0.093280</td>\n",
       "      <td>0.077713</td>\n",
       "    </tr>\n",
       "    <tr>\n",
       "      <th>8</th>\n",
       "      <td>0.068681</td>\n",
       "      <td>0.046132</td>\n",
       "    </tr>\n",
       "    <tr>\n",
       "      <th>9</th>\n",
       "      <td>0.044486</td>\n",
       "      <td>0.042460</td>\n",
       "    </tr>\n",
       "    <tr>\n",
       "      <th>10</th>\n",
       "      <td>0.037650</td>\n",
       "      <td>0.056564</td>\n",
       "    </tr>\n",
       "  </tbody>\n",
       "</table>\n",
       "</div>"
      ],
      "text/plain": [
       "              0.0       0.3\n",
       "episode                    \n",
       "1        0.726364  0.688417\n",
       "2        0.526714  0.514234\n",
       "3        0.395871  0.411293\n",
       "4        0.256684  0.296779\n",
       "5        0.191487  0.186675\n",
       "6        0.136199  0.131952\n",
       "7        0.093280  0.077713\n",
       "8        0.068681  0.046132\n",
       "9        0.044486  0.042460\n",
       "10       0.037650  0.056564"
      ]
     },
     "execution_count": 75,
     "metadata": {},
     "output_type": "execute_result"
    }
   ],
   "source": [
    "df_error = pd.DataFrame(index=pd.Index(range(1, 11), name='episode'), columns=['0.0', '0.3'])\n",
    "x = np.linspace(1, 10, 10)\n",
    "y1 = np.exp(-1 * x/3)\n",
    "y1_noise = [np.random.normal(y, 0.02) for y in y1]\n",
    "y2_noise = [np.random.normal(y, 0.02) for y in y1]\n",
    "df_error['0.0'] = y1_noise\n",
    "df_error['0.3'] = y2_noise\n",
    "df_error"
   ]
  },
  {
   "cell_type": "markdown",
   "metadata": {},
   "source": [
    "### Format plotting"
   ]
  },
  {
   "cell_type": "code",
   "execution_count": 107,
   "metadata": {},
   "outputs": [
    {
     "data": {
      "text/plain": [
       "Text(0.67,0.81,'Training set: 4\\nEpisode: 8\\nTime step: 1')"
      ]
     },
     "execution_count": 107,
     "metadata": {},
     "output_type": "execute_result"
    },
    {
     "data": {
      "image/png": "[encoded data removed]",
      "text/plain": [
       "<Figure size 1152x648 with 5 Axes>"
      ]
     },
     "metadata": {
      "needs_background": "light"
     },
     "output_type": "display_data"
    }
   ],
   "source": [
    "fig = plt.figure(figsize=(16, 9))\n",
    "spec = gridspec.GridSpec(nrows=4, ncols=3, hspace=.5)\n",
    "ax1 = fig.add_subplot(spec[0:2, 0])\n",
    "ax2 = fig.add_subplot(spec[0:2, 1], sharey=ax1)\n",
    "ax3 = fig.add_subplot(spec[2:4, 0])\n",
    "ax4 = fig.add_subplot(spec[2:4, 1], sharey=ax3)\n",
    "ax5 = fig.add_subplot(spec[1:3, 2])\n",
    "#ax1 = plt.subplot2grid((4, 3), (0, 0), rowspan=2)\n",
    "#ax2 = plt.subplot2grid((4, 3), (0, 1), sharey=ax1, rowspan=2)\n",
    "#ax3 = plt.subplot2grid((4, 3), (2, 0), rowspan=2)\n",
    "#ax4 = plt.subplot2grid((4, 3), (2, 1), sharey=ax3, rowspan=2)\n",
    "#ax5 = plt.subplot2grid((4, 3), (1, 2), rowspan=2)\n",
    "\n",
    "#Ax1\n",
    "bl1 = ax1.bar(df_v.columns, df_v.iloc[0])\n",
    "bl1[2].set_color('r')\n",
    "ax1.plot(df_v.columns, v_true, 'ys')\n",
    "ax1.set_title(f'$\\lambda = {df_v.index.values[0]}$')\n",
    "ax1.set_ylabel('State-value function estimate')\n",
    "\n",
    "#Ax2\n",
    "bl2 = ax2.bar(df_v.columns, df_v.iloc[1])\n",
    "bl2[2].set_color('r')\n",
    "ax2.plot(df_v.columns, v_true, 'ys')\n",
    "ax2.set_title(f'$\\lambda = {df_v.index.values[1]}$')\n",
    "ax2.set_ylabel('State-value function estimate')\n",
    "\n",
    "#Ax3\n",
    "ax3.plot(df_e.columns, df_e.iloc[0])\n",
    "ax3.set_title(f'$\\lambda = {df_e.index.values[0]}$')\n",
    "ax3.set_ylabel('Eligibility')\n",
    "\n",
    "#Ax4\n",
    "ax4.plot(df_e.columns, df_e.iloc[1])\n",
    "ax4.set_title(f'$\\lambda = {df_e.index.values[1]}$')\n",
    "ax4.set_ylabel('Eligibility')\n",
    "\n",
    "#Ax5\n",
    "ax5.plot(df_error)\n",
    "ax5.set_title('RMS Error vs. true state-values')\n",
    "ax5.set_ylabel('RMS Error')\n",
    "ax5.set_xlabel('Episodes')\n",
    "\n",
    "#Annotation info\n",
    "i_set = 4\n",
    "i_episode = 8\n",
    "i = 1\n",
    "text = f'Training set: {i_set}\\nEpisode: {i_episode}\\nTime step: {i}'\n",
    "plt.figtext(.67, .81, text, fontsize=14, linespacing=1.5)"
   ]
  },
  {
   "cell_type": "code",
   "execution_count": null,
   "metadata": {},
   "outputs": [],
   "source": []
  }
 ],
 "metadata": {
  "kernelspec": {
   "display_name": "Python 3",
   "language": "python",
   "name": "python3"
  },
  "language_info": {
   "codemirror_mode": {
    "name": "ipython",
    "version": 3
   },
   "file_extension": ".py",
   "mimetype": "text/x-python",
   "name": "python",
   "nbconvert_exporter": "python",
   "pygments_lexer": "ipython3",
   "version": "3.6.8"
  }
 },
 "nbformat": 4,
 "nbformat_minor": 2
}
