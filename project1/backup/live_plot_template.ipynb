{
 "cells": [
  {
   "cell_type": "code",
   "execution_count": 1,
   "metadata": {},
   "outputs": [],
   "source": [
    "import pandas as pd\n",
    "import numpy as np\n",
    "import matplotlib.pyplot as plt\n",
    "import matplotlib.animation as animation\n",
    "from matplotlib import style\n",
    "import matplotlib.gridspec as gridspec"
   ]
  },
  {
   "cell_type": "markdown",
   "metadata": {},
   "source": [
    "### Fake data"
   ]
  },
  {
   "cell_type": "code",
   "execution_count": 74,
   "metadata": {},
   "outputs": [
    {
     "data": {
      "text/html": [
       "<div>\n",
       "<style scoped>\n",
       "    .dataframe tbody tr th:only-of-type {\n",
       "        vertical-align: middle;\n",
       "    }\n",
       "\n",
       "    .dataframe tbody tr th {\n",
       "        vertical-align: top;\n",
       "    }\n",
       "\n",
       "    .dataframe thead th {\n",
       "        text-align: right;\n",
       "    }\n",
       "</style>\n",
       "<table border=\"1\" class=\"dataframe\">\n",
       "  <thead>\n",
       "    <tr style=\"text-align: right;\">\n",
       "      <th></th>\n",
       "      <th>A</th>\n",
       "      <th>B</th>\n",
       "      <th>C</th>\n",
       "      <th>D</th>\n",
       "      <th>E</th>\n",
       "    </tr>\n",
       "    <tr>\n",
       "      <th>lambda</th>\n",
       "      <th></th>\n",
       "      <th></th>\n",
       "      <th></th>\n",
       "      <th></th>\n",
       "      <th></th>\n",
       "    </tr>\n",
       "  </thead>\n",
       "  <tbody>\n",
       "    <tr>\n",
       "      <th>0.0</th>\n",
       "      <td>0.331252</td>\n",
       "      <td>0.256085</td>\n",
       "      <td>0.515037</td>\n",
       "      <td>0.500733</td>\n",
       "      <td>0.767174</td>\n",
       "    </tr>\n",
       "    <tr>\n",
       "      <th>0.3</th>\n",
       "      <td>0.168211</td>\n",
       "      <td>0.423157</td>\n",
       "      <td>0.565327</td>\n",
       "      <td>0.757421</td>\n",
       "      <td>0.816491</td>\n",
       "    </tr>\n",
       "  </tbody>\n",
       "</table>\n",
       "</div>"
      ],
      "text/plain": [
       "               A         B         C         D         E\n",
       "lambda                                                  \n",
       "0.0     0.331252  0.256085  0.515037  0.500733  0.767174\n",
       "0.3     0.168211  0.423157  0.565327  0.757421  0.816491"
      ]
     },
     "execution_count": 74,
     "metadata": {},
     "output_type": "execute_result"
    }
   ],
   "source": [
    "df_v = pd.DataFrame(index=pd.Index([0.0, 0.3], name='lambda'), columns=['A', 'B', 'C', 'D', 'E'])\n",
    "v_true = [1/6, 2/6, 3/6, 4/6, 5/6]\n",
    "df_v.loc[0.0] = [np.random.normal(v, 0.1) for v in v_true]\n",
    "df_v.loc[0.3] = [np.random.normal(v, 0.1) for v in v_true]\n",
    "df_v"
   ]
  },
  {
   "cell_type": "code",
   "execution_count": 10,
   "metadata": {},
   "outputs": [
    {
     "data": {
      "text/html": [
       "<div>\n",
       "<style scoped>\n",
       "    .dataframe tbody tr th:only-of-type {\n",
       "        vertical-align: middle;\n",
       "    }\n",
       "\n",
       "    .dataframe tbody tr th {\n",
       "        vertical-align: top;\n",
       "    }\n",
       "\n",
       "    .dataframe thead th {\n",
       "        text-align: right;\n",
       "    }\n",
       "</style>\n",
       "<table border=\"1\" class=\"dataframe\">\n",
       "  <thead>\n",
       "    <tr style=\"text-align: right;\">\n",
       "      <th></th>\n",
       "      <th>A</th>\n",
       "      <th>B</th>\n",
       "      <th>C</th>\n",
       "      <th>D</th>\n",
       "      <th>E</th>\n",
       "    </tr>\n",
       "    <tr>\n",
       "      <th>eligibility</th>\n",
       "      <th></th>\n",
       "      <th></th>\n",
       "      <th></th>\n",
       "      <th></th>\n",
       "      <th></th>\n",
       "    </tr>\n",
       "  </thead>\n",
       "  <tbody>\n",
       "    <tr>\n",
       "      <th>0.0</th>\n",
       "      <td>0.497348</td>\n",
       "      <td>0.194094</td>\n",
       "      <td>0.787539</td>\n",
       "      <td>0.0617646</td>\n",
       "      <td>0.246346</td>\n",
       "    </tr>\n",
       "    <tr>\n",
       "      <th>0.3</th>\n",
       "      <td>0.249675</td>\n",
       "      <td>0.12099</td>\n",
       "      <td>0.410138</td>\n",
       "      <td>0.272931</td>\n",
       "      <td>0.522751</td>\n",
       "    </tr>\n",
       "  </tbody>\n",
       "</table>\n",
       "</div>"
      ],
      "text/plain": [
       "                    A         B         C          D         E\n",
       "eligibility                                                   \n",
       "0.0          0.497348  0.194094  0.787539  0.0617646  0.246346\n",
       "0.3          0.249675   0.12099  0.410138   0.272931  0.522751"
      ]
     },
     "execution_count": 10,
     "metadata": {},
     "output_type": "execute_result"
    }
   ],
   "source": [
    "df_e = pd.DataFrame(index=pd.Index([0.0, 0.3], name='eligibility'), columns=['A', 'B', 'C', 'D', 'E'])\n",
    "df_e.loc[0.0] = np.random.uniform(0, 1, 5)\n",
    "df_e.loc[0.3] = np.random.uniform(0, 1, 5)\n",
    "df_e"
   ]
  },
  {
   "cell_type": "code",
   "execution_count": 55,
   "metadata": {},
   "outputs": [
    {
     "data": {
      "text/html": [
       "<div>\n",
       "<style scoped>\n",
       "    .dataframe tbody tr th:only-of-type {\n",
       "        vertical-align: middle;\n",
       "    }\n",
       "\n",
       "    .dataframe tbody tr th {\n",
       "        vertical-align: top;\n",
       "    }\n",
       "\n",
       "    .dataframe thead th {\n",
       "        text-align: right;\n",
       "    }\n",
       "</style>\n",
       "<table border=\"1\" class=\"dataframe\">\n",
       "  <thead>\n",
       "    <tr style=\"text-align: right;\">\n",
       "      <th></th>\n",
       "      <th>0.0</th>\n",
       "      <th>0.3</th>\n",
       "    </tr>\n",
       "    <tr>\n",
       "      <th>episode</th>\n",
       "      <th></th>\n",
       "      <th></th>\n",
       "    </tr>\n",
       "  </thead>\n",
       "  <tbody>\n",
       "    <tr>\n",
       "      <th>1</th>\n",
       "      <td>0.732206</td>\n",
       "      <td>0.688337</td>\n",
       "    </tr>\n",
       "    <tr>\n",
       "      <th>2</th>\n",
       "      <td>0.515781</td>\n",
       "      <td>0.542162</td>\n",
       "    </tr>\n",
       "    <tr>\n",
       "      <th>3</th>\n",
       "      <td>0.372372</td>\n",
       "      <td>0.359229</td>\n",
       "    </tr>\n",
       "    <tr>\n",
       "      <th>4</th>\n",
       "      <td>0.272010</td>\n",
       "      <td>0.247479</td>\n",
       "    </tr>\n",
       "    <tr>\n",
       "      <th>5</th>\n",
       "      <td>0.173941</td>\n",
       "      <td>0.223694</td>\n",
       "    </tr>\n",
       "    <tr>\n",
       "      <th>6</th>\n",
       "      <td>0.145006</td>\n",
       "      <td>0.156316</td>\n",
       "    </tr>\n",
       "    <tr>\n",
       "      <th>7</th>\n",
       "      <td>0.101703</td>\n",
       "      <td>0.099721</td>\n",
       "    </tr>\n",
       "    <tr>\n",
       "      <th>8</th>\n",
       "      <td>0.087928</td>\n",
       "      <td>0.053626</td>\n",
       "    </tr>\n",
       "    <tr>\n",
       "      <th>9</th>\n",
       "      <td>0.047029</td>\n",
       "      <td>0.047927</td>\n",
       "    </tr>\n",
       "    <tr>\n",
       "      <th>10</th>\n",
       "      <td>0.037183</td>\n",
       "      <td>0.015116</td>\n",
       "    </tr>\n",
       "  </tbody>\n",
       "</table>\n",
       "</div>"
      ],
      "text/plain": [
       "              0.0       0.3\n",
       "episode                    \n",
       "1        0.732206  0.688337\n",
       "2        0.515781  0.542162\n",
       "3        0.372372  0.359229\n",
       "4        0.272010  0.247479\n",
       "5        0.173941  0.223694\n",
       "6        0.145006  0.156316\n",
       "7        0.101703  0.099721\n",
       "8        0.087928  0.053626\n",
       "9        0.047029  0.047927\n",
       "10       0.037183  0.015116"
      ]
     },
     "execution_count": 55,
     "metadata": {},
     "output_type": "execute_result"
    }
   ],
   "source": [
    "df_error = pd.DataFrame(index=pd.Index(range(1, 11), name='episode'), columns=[0.0, 0.3])\n",
    "x = np.linspace(1, 10, 10)\n",
    "y1 = np.exp(-1 * x/3)\n",
    "y1_noise = [np.random.normal(y, 0.02) for y in y1]\n",
    "y2_noise = [np.random.normal(y, 0.02) for y in y1]\n",
    "df_error[0.0] = y1_noise\n",
    "df_error[0.3] = y2_noise\n",
    "df_error"
   ]
  },
  {
   "cell_type": "markdown",
   "metadata": {},
   "source": [
    "### Format plotting"
   ]
  },
  {
   "cell_type": "code",
   "execution_count": 58,
   "metadata": {},
   "outputs": [],
   "source": [
    "file_v = 'images/df_v.csv'\n",
    "file_e = 'images/df_e.csv'\n",
    "file_error = 'images/df_error.csv'\n",
    "file_annotation = 'images/annotation.txt'\n",
    "df_v = pd.read_csv(file_v, index_col=0)\n",
    "df_e = pd.read_csv(file_e, index_col=0)\n",
    "df_error = pd.read_csv(file_error, index_col=0)\n",
    "f = open(file_annotation, \"r\")\n",
    "annotation = f.read()\n",
    "f.close()"
   ]
  },
  {
   "cell_type": "code",
   "execution_count": 59,
   "metadata": {},
   "outputs": [
    {
     "ename": "NameError",
     "evalue": "name 'v_true' is not defined",
     "output_type": "error",
     "traceback": [
      "\u001b[0;31m---------------------------------------------------------------------------\u001b[0m",
      "\u001b[0;31mNameError\u001b[0m                                 Traceback (most recent call last)",
      "\u001b[0;32m<ipython-input-59-afafe7a05301>\u001b[0m in \u001b[0;36m<module>\u001b[0;34m\u001b[0m\n\u001b[1;32m     15\u001b[0m \u001b[0mbl1\u001b[0m \u001b[0;34m=\u001b[0m \u001b[0max1\u001b[0m\u001b[0;34m.\u001b[0m\u001b[0mbar\u001b[0m\u001b[0;34m(\u001b[0m\u001b[0mdf_v\u001b[0m\u001b[0;34m.\u001b[0m\u001b[0mcolumns\u001b[0m\u001b[0;34m,\u001b[0m \u001b[0mdf_v\u001b[0m\u001b[0;34m.\u001b[0m\u001b[0miloc\u001b[0m\u001b[0;34m[\u001b[0m\u001b[0;36m0\u001b[0m\u001b[0;34m]\u001b[0m\u001b[0;34m)\u001b[0m\u001b[0;34m\u001b[0m\u001b[0;34m\u001b[0m\u001b[0m\n\u001b[1;32m     16\u001b[0m \u001b[0mbl1\u001b[0m\u001b[0;34m[\u001b[0m\u001b[0;36m2\u001b[0m\u001b[0;34m]\u001b[0m\u001b[0;34m.\u001b[0m\u001b[0mset_color\u001b[0m\u001b[0;34m(\u001b[0m\u001b[0;34m'r'\u001b[0m\u001b[0;34m)\u001b[0m\u001b[0;34m\u001b[0m\u001b[0;34m\u001b[0m\u001b[0m\n\u001b[0;32m---> 17\u001b[0;31m \u001b[0max1\u001b[0m\u001b[0;34m.\u001b[0m\u001b[0mplot\u001b[0m\u001b[0;34m(\u001b[0m\u001b[0mdf_v\u001b[0m\u001b[0;34m.\u001b[0m\u001b[0mcolumns\u001b[0m\u001b[0;34m,\u001b[0m \u001b[0mv_true\u001b[0m\u001b[0;34m,\u001b[0m \u001b[0;34m'ys'\u001b[0m\u001b[0;34m)\u001b[0m\u001b[0;34m\u001b[0m\u001b[0;34m\u001b[0m\u001b[0m\n\u001b[0m\u001b[1;32m     18\u001b[0m \u001b[0max1\u001b[0m\u001b[0;34m.\u001b[0m\u001b[0mset_title\u001b[0m\u001b[0;34m(\u001b[0m\u001b[0;34mf'$\\lambda = {df_v.index.values[0]}$'\u001b[0m\u001b[0;34m)\u001b[0m\u001b[0;34m\u001b[0m\u001b[0;34m\u001b[0m\u001b[0m\n\u001b[1;32m     19\u001b[0m \u001b[0max1\u001b[0m\u001b[0;34m.\u001b[0m\u001b[0mset_ylabel\u001b[0m\u001b[0;34m(\u001b[0m\u001b[0;34m'State-value function estimate'\u001b[0m\u001b[0;34m)\u001b[0m\u001b[0;34m\u001b[0m\u001b[0;34m\u001b[0m\u001b[0m\n",
      "\u001b[0;31mNameError\u001b[0m: name 'v_true' is not defined"
     ]
    },
    {
     "data": {
      "image/png": "[encoded data removed]",
      "text/plain": [
       "<Figure size 1152x648 with 5 Axes>"
      ]
     },
     "metadata": {
      "needs_background": "light"
     },
     "output_type": "display_data"
    }
   ],
   "source": [
    "fig = plt.figure(figsize=(16, 9))\n",
    "spec = gridspec.GridSpec(nrows=4, ncols=3, hspace=.5)\n",
    "ax1 = fig.add_subplot(spec[0:2, 0])\n",
    "ax2 = fig.add_subplot(spec[0:2, 1], sharey=ax1)\n",
    "ax3 = fig.add_subplot(spec[2:4, 0])\n",
    "ax4 = fig.add_subplot(spec[2:4, 1], sharey=ax3)\n",
    "ax5 = fig.add_subplot(spec[1:3, 2])\n",
    "#ax1 = plt.subplot2grid((4, 3), (0, 0), rowspan=2)\n",
    "#ax2 = plt.subplot2grid((4, 3), (0, 1), sharey=ax1, rowspan=2)\n",
    "#ax3 = plt.subplot2grid((4, 3), (2, 0), rowspan=2)\n",
    "#ax4 = plt.subplot2grid((4, 3), (2, 1), sharey=ax3, rowspan=2)\n",
    "#ax5 = plt.subplot2grid((4, 3), (1, 2), rowspan=2)\n",
    "\n",
    "#Ax1\n",
    "bl1 = ax1.bar(df_v.columns, df_v.iloc[0])\n",
    "bl1[2].set_color('r')\n",
    "ax1.plot(df_v.columns, v_true, 'ys')\n",
    "ax1.set_title(f'$\\lambda = {df_v.index.values[0]}$')\n",
    "ax1.set_ylabel('State-value function estimate')\n",
    "\n",
    "#Ax2\n",
    "bl2 = ax2.bar(df_v.columns, df_v.iloc[1])\n",
    "bl2[2].set_color('r')\n",
    "ax2.plot(df_v.columns, v_true, 'ys')\n",
    "ax2.set_title(f'$\\lambda = {df_v.index.values[1]}$')\n",
    "ax2.set_ylabel('State-value function estimate')\n",
    "\n",
    "#Ax3\n",
    "ax3.plot(df_e.columns, df_e.iloc[0])\n",
    "ax3.set_title(f'$\\lambda = {df_e.index.values[0]}$')\n",
    "ax3.set_ylabel('Eligibility')\n",
    "\n",
    "#Ax4\n",
    "ax4.plot(df_e.columns, df_e.iloc[1])\n",
    "ax4.set_title(f'$\\lambda = {df_e.index.values[1]}$')\n",
    "ax4.set_ylabel('Eligibility')\n",
    "\n",
    "#Ax5\n",
    "ax5.plot(df_error)\n",
    "ax5.set_title('RMS Error vs. true state-values')\n",
    "ax5.set_ylabel('RMS Error')\n",
    "ax5.set_xlabel('Episodes')\n",
    "\n",
    "#Annotation info\n",
    "i_set = 4\n",
    "i_episode = 8\n",
    "i = 1\n",
    "text = f'Training set: {i_set}\\nEpisode: {i_episode}\\nTime step: {i}'\n",
    "plt.figtext(.67, .81, text, fontsize=14, linespacing=1.5)"
   ]
  },
  {
   "cell_type": "code",
   "execution_count": 19,
   "metadata": {},
   "outputs": [],
   "source": [
    "i_set = 4\n",
    "i_episode = 10\n",
    "i = 1\n",
    "s = 3\n",
    "text = f'Training set: {i_set}\\nEpisode: {i_episode}\\nTime step: {i}\\nCurrent state: {s}'\n",
    "with open(\"annotation.txt\", \"w\") as text_file:\n",
    "    text_file.write(text)"
   ]
  },
  {
   "cell_type": "code",
   "execution_count": 63,
   "metadata": {},
   "outputs": [
    {
     "name": "stdout",
     "output_type": "stream",
     "text": [
      "Training set: 2\n",
      "Episode: 7\n",
      "Time step: 30\n",
      "Current state: B\n",
      "1\n"
     ]
    }
   ],
   "source": [
    "f = open(\"images/annotation.txt\", \"r\")\n",
    "content = f.read()\n",
    "print(content)\n",
    "f.seek(0, 0)\n",
    "line_list = f.readlines()\n",
    "print(ord((line_list[3].split(':')[1]).strip()) - 65)\n",
    "f.close()"
   ]
  },
  {
   "cell_type": "code",
   "execution_count": 38,
   "metadata": {},
   "outputs": [
    {
     "name": "stdout",
     "output_type": "stream",
     "text": [
      "['A', 'B', 'C', 'D', 'E']\n"
     ]
    }
   ],
   "source": [
    "x = range(5)\n",
    "c = [chr(65 + i) for i in x]\n",
    "print(c)"
   ]
  },
  {
   "cell_type": "code",
   "execution_count": 39,
   "metadata": {},
   "outputs": [
    {
     "data": {
      "text/plain": [
       "['v_true', 0.0, 0.3]"
      ]
     },
     "execution_count": 39,
     "metadata": {},
     "output_type": "execute_result"
    }
   ],
   "source": [
    "lambdas=[0.0, 0.3]\n",
    "x = ['v_true'] + lambdas\n",
    "x"
   ]
  },
  {
   "cell_type": "code",
   "execution_count": 41,
   "metadata": {},
   "outputs": [
    {
     "data": {
      "text/html": [
       "<div>\n",
       "<style scoped>\n",
       "    .dataframe tbody tr th:only-of-type {\n",
       "        vertical-align: middle;\n",
       "    }\n",
       "\n",
       "    .dataframe tbody tr th {\n",
       "        vertical-align: top;\n",
       "    }\n",
       "\n",
       "    .dataframe thead th {\n",
       "        text-align: right;\n",
       "    }\n",
       "</style>\n",
       "<table border=\"1\" class=\"dataframe\">\n",
       "  <thead>\n",
       "    <tr style=\"text-align: right;\">\n",
       "      <th></th>\n",
       "      <th>1</th>\n",
       "      <th>2</th>\n",
       "      <th>3</th>\n",
       "    </tr>\n",
       "    <tr>\n",
       "      <th>lambda</th>\n",
       "      <th></th>\n",
       "      <th></th>\n",
       "      <th></th>\n",
       "    </tr>\n",
       "  </thead>\n",
       "  <tbody>\n",
       "    <tr>\n",
       "      <th>v_true</th>\n",
       "      <td>NaN</td>\n",
       "      <td>NaN</td>\n",
       "      <td>NaN</td>\n",
       "    </tr>\n",
       "    <tr>\n",
       "      <th>0.0</th>\n",
       "      <td>NaN</td>\n",
       "      <td>NaN</td>\n",
       "      <td>NaN</td>\n",
       "    </tr>\n",
       "    <tr>\n",
       "      <th>0.3</th>\n",
       "      <td>NaN</td>\n",
       "      <td>NaN</td>\n",
       "      <td>NaN</td>\n",
       "    </tr>\n",
       "  </tbody>\n",
       "</table>\n",
       "</div>"
      ],
      "text/plain": [
       "          1    2    3\n",
       "lambda               \n",
       "v_true  NaN  NaN  NaN\n",
       "0.0     NaN  NaN  NaN\n",
       "0.3     NaN  NaN  NaN"
      ]
     },
     "execution_count": 41,
     "metadata": {},
     "output_type": "execute_result"
    }
   ],
   "source": [
    "df_v = pd.DataFrame(index=pd.Index(['v_true'] + lambdas, name='lambda'),\n",
    "                            columns=[1, 2, 3])\n",
    "df_v"
   ]
  },
  {
   "cell_type": "code",
   "execution_count": 52,
   "metadata": {},
   "outputs": [
    {
     "name": "stdout",
     "output_type": "stream",
     "text": [
      "[0.03499234731653723, 1.0016179404634624, 2.0225847310328446, 3.0069292733248383, 4.001726650125663, 4.993501429505612, 6.000278200109143, 6.987460267235209, 7.993845781339431, 8.985200554825216]\n"
     ]
    }
   ],
   "source": [
    "from collections import defaultdict\n",
    "\n",
    "rms = defaultdict(list)\n",
    "for i_set in range(100):\n",
    "    for i_episode in range(10):\n",
    "        rms[i_episode].append(np.random.normal(i_episode, 0.1))\n",
    "        \n",
    "    V = [np.mean(v) for k, v in rms.items()]\n",
    "    if i_set == 50:\n",
    "        print(V)\n"
   ]
  },
  {
   "cell_type": "code",
   "execution_count": null,
   "metadata": {},
   "outputs": [],
   "source": []
  }
 ],
 "metadata": {
  "kernelspec": {
   "display_name": "Python 3",
   "language": "python",
   "name": "python3"
  },
  "language_info": {
   "codemirror_mode": {
    "name": "ipython",
    "version": 3
   },
   "file_extension": ".py",
   "mimetype": "text/x-python",
   "name": "python",
   "nbconvert_exporter": "python",
   "pygments_lexer": "ipython3",
   "version": "3.6.8"
  }
 },
 "nbformat": 4,
 "nbformat_minor": 2
}
